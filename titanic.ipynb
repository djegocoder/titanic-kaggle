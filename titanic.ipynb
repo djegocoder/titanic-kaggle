{
 "cells": [
  {
   "cell_type": "code",
   "execution_count": null,
   "metadata": {},
   "outputs": [],
   "source": [
    "import mlflow\n",
    "from pycaret.classification import *\n",
    "import seaborn as sns\n",
    "import pandas as pd"
   ]
  },
  {
   "cell_type": "code",
   "execution_count": null,
   "metadata": {},
   "outputs": [],
   "source": [
    "train = pd.read_csv('train.csv')\n",
    "test = pd.read_csv('test.csv')"
   ]
  },
  {
   "cell_type": "code",
   "execution_count": null,
   "metadata": {},
   "outputs": [],
   "source": [
    "def resumetable(df):\n",
    "    \"\"\"\n",
    "    Objective: For a given dataframe this function provides information\n",
    "    regarding Missing and Unique values per column.\n",
    "\n",
    "    Input: param df: Dataframe to check the information.\n",
    "\n",
    "    Output: return summary: a dataframe with columns providing summary per column of the input dataframe.\n",
    "    \n",
    "    \"\"\"\n",
    "    df = df.copy()\n",
    "    print(f\"Dataset Shape: {df.shape}\")\n",
    "    summary = pd.DataFrame(df.dtypes,columns=['dtypes'])\n",
    "    summary = summary.reset_index()\n",
    "    summary['Name'] = summary['index']\n",
    "    summary = summary[['Name','dtypes']]\n",
    "    summary['Missing'] = df.isnull().sum().values\n",
    "    summary['Missing Percentage'] = df.isnull().sum().values/len(df)\n",
    "    summary['Uniques'] = df.nunique().values\n",
    "    return summary\n",
    "resumetable(train)"
   ]
  },
  {
   "cell_type": "code",
   "execution_count": null,
   "metadata": {},
   "outputs": [],
   "source": [
    "Ticket = train['Ticket'].str.split(expand=True)\n",
    "Ticket"
   ]
  },
  {
   "cell_type": "code",
   "execution_count": null,
   "metadata": {},
   "outputs": [],
   "source": [
    "#Ticket[Ticket[0]=='LINE']\n",
    "train[train['Ticket']=='LINE']"
   ]
  },
  {
   "cell_type": "code",
   "execution_count": null,
   "metadata": {},
   "outputs": [],
   "source": [
    "for i in range(891):\n",
    "    if Ticket.loc[i,2] != None:\n",
    "        Ticket.loc[i,0] = Ticket.loc[i,0]+'_'+Ticket.loc[i,1]\n",
    "        Ticket.loc[i,1] = Ticket.loc[i,2]\n",
    "    if Ticket.loc[i,1] == None and Ticket.loc[i,0] != 'LINE':\n",
    "        Ticket.loc[i,1] = Ticket.loc[i,0]\n",
    "        Ticket.loc[i,0] = None\n",
    "    else:\n",
    "        Ticket.loc[i,0] == 0\n",
    "        Ticket.loc[i,1] == 'LINE'\n",
    "Ticket"
   ]
  },
  {
   "cell_type": "code",
   "execution_count": null,
   "metadata": {},
   "outputs": [],
   "source": [
    "train.Ticket = Ticket[1]\n",
    "train[\"codeTicket\"] = Ticket[0]\n",
    "train"
   ]
  },
  {
   "cell_type": "code",
   "execution_count": null,
   "metadata": {},
   "outputs": [],
   "source": [
    "LastName = train[\"Name\"].str.split(\",\",n=1,expand=True)\n",
    "train[\"LastName\"] = Last_Name[0]\n",
    "train[\"Name\"] = LastName[1]\n",
    "train"
   ]
  },
  {
   "cell_type": "code",
   "execution_count": null,
   "metadata": {},
   "outputs": [],
   "source": [
    "test = pd.read_csv('test.csv')\n",
    "Ticket2 = test['Ticket'].str.split(expand=True)\n",
    "for j in range(417):\n",
    "    if Ticket2.loc[j,2] != None:\n",
    "        Ticket2.loc[j,0] = Ticket2.loc[j,0]+'_'+Ticket2.loc[j,1]\n",
    "        Ticket2.loc[j,1] = Ticket2.loc[j,2]\n",
    "    if Ticket2.loc[j,1] == None and Ticket2.loc[j,0] != 'LINE':\n",
    "        Ticket2.loc[j,1] = Ticket2.loc[j,0]\n",
    "        Ticket2.loc[j,0] = None\n",
    "    else:\n",
    "        Ticket2.loc[j,0] == 0\n",
    "        Ticket2.loc[j,1] == 'LINE'\n",
    "test.Ticket = Ticket2[1]\n",
    "test[\"codeTicket\"] = Ticket2[0]\n",
    "LastName2 = test[\"Name\"].str.split(\",\",n=1,expand=True)\n",
    "test[\"LastName\"] = LastName2[0]\n",
    "test[\"Name\"] = LastName2[1]"
   ]
  },
  {
   "cell_type": "code",
   "execution_count": null,
   "metadata": {},
   "outputs": [],
   "source": [
    "\n",
    "resumetable(df)"
   ]
  },
  {
   "cell_type": "code",
   "execution_count": null,
   "metadata": {},
   "outputs": [],
   "source": [
    "df"
   ]
  },
  {
   "cell_type": "code",
   "execution_count": null,
   "metadata": {},
   "outputs": [],
   "source": [
    "s = setup(df,test_data=df2,numeric_features='', target='Survived',use_gpu=True, )"
   ]
  },
  {
   "cell_type": "code",
   "execution_count": null,
   "metadata": {},
   "outputs": [],
   "source": [
    "melhor = compare_models()"
   ]
  },
  {
   "cell_type": "code",
   "execution_count": null,
   "metadata": {},
   "outputs": [],
   "source": [
    "gbc = create_model('gbc')"
   ]
  },
  {
   "cell_type": "code",
   "execution_count": null,
   "metadata": {},
   "outputs": [],
   "source": [
    "evaluate_model(gbc)"
   ]
  },
  {
   "cell_type": "code",
   "execution_count": null,
   "metadata": {},
   "outputs": [],
   "source": [
    "plot_model(gbc, plot='threshold')"
   ]
  },
  {
   "cell_type": "code",
   "execution_count": null,
   "metadata": {},
   "outputs": [],
   "source": [
    "eda()"
   ]
  },
  {
   "cell_type": "code",
   "execution_count": null,
   "metadata": {},
   "outputs": [],
   "source": [
    "calibrate_model(gbc)"
   ]
  },
  {
   "cell_type": "code",
   "execution_count": null,
   "metadata": {},
   "outputs": [],
   "source": [
    "plot_model(gbc,plot='')"
   ]
  },
  {
   "cell_type": "code",
   "execution_count": null,
   "metadata": {},
   "outputs": [],
   "source": [
    "tune_model(gbc)\n"
   ]
  },
  {
   "cell_type": "code",
   "execution_count": null,
   "metadata": {},
   "outputs": [],
   "source": [
    "evaluate_model(gbc)"
   ]
  },
  {
   "cell_type": "code",
   "execution_count": null,
   "metadata": {},
   "outputs": [],
   "source": [
    "interpret_model(gbc)"
   ]
  },
  {
   "cell_type": "code",
   "execution_count": null,
   "metadata": {},
   "outputs": [],
   "source": [
    "finalize_model(gbc)"
   ]
  },
  {
   "cell_type": "code",
   "execution_count": null,
   "metadata": {},
   "outputs": [],
   "source": [
    "save_model(gbc,'gbc1')"
   ]
  },
  {
   "cell_type": "code",
   "execution_count": null,
   "metadata": {},
   "outputs": [],
   "source": []
  },
  {
   "cell_type": "code",
   "execution_count": null,
   "metadata": {},
   "outputs": [],
   "source": [
    "predicao = predict_model(gbc,df2)\n",
    "predicao"
   ]
  },
  {
   "cell_type": "code",
   "execution_count": null,
   "metadata": {},
   "outputs": [],
   "source": [
    "output = pd.DataFrame({'PassengerId': predicao.PassengerId,'Survived': predicao.Label})\n",
    "output"
   ]
  },
  {
   "cell_type": "code",
   "execution_count": null,
   "metadata": {},
   "outputs": [],
   "source": [
    "output.to_csv('submission2.csv', index=False)"
   ]
  },
  {
   "cell_type": "code",
   "execution_count": null,
   "metadata": {},
   "outputs": [],
   "source": []
  }
 ],
 "metadata": {
  "kernelspec": {
   "display_name": "Python 3.8.10 64-bit",
   "language": "python",
   "name": "python3"
  },
  "language_info": {
   "codemirror_mode": {
    "name": "ipython",
    "version": 3
   },
   "file_extension": ".py",
   "mimetype": "text/x-python",
   "name": "python",
   "nbconvert_exporter": "python",
   "pygments_lexer": "ipython3",
   "version": "3.8.10"
  },
  "orig_nbformat": 4,
  "vscode": {
   "interpreter": {
    "hash": "31f2aee4e71d21fbe5cf8b01ff0e069b9275f58929596ceb00d14d90e3e16cd6"
   }
  }
 },
 "nbformat": 4,
 "nbformat_minor": 2
}
